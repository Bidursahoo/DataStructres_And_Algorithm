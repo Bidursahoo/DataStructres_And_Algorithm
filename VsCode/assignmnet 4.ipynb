{
 "cells": [
  {
   "cell_type": "code",
   "execution_count": null,
   "metadata": {},
   "outputs": [],
   "source": [
    "# 1. Given a range of first 10 numbers, Iterate from start number to the end number and\n",
    "# print the sum of the current number and previous number.\n",
    "a = int(input(\"Enter the starting of range\"))\n",
    "b = int(input(\"Enter the ending of range\"))\n",
    "for i in range(a,b):\n",
    "    if(i ==a):\n",
    "        prev = a\n",
    "        curr = a\n",
    "    else:\n",
    "        prev = i-1\n",
    "        curr = i\n",
    "        print(\"Sum is :\",prev+curr)\n",
    "    "
   ]
  },
  {
   "cell_type": "code",
   "execution_count": 1,
   "metadata": {},
   "outputs": [
    {
     "name": "stdout",
     "output_type": "stream",
     "text": [
      "Enter a stringhello bidur how are you\n",
      "hlobdrhwaeyu\n"
     ]
    }
   ],
   "source": [
    "# 2. Given a string, display only those characters which are present at an even index\n",
    "# number.\n",
    "st = input(\"Enter a string\")\n",
    "print(st[::2])"
   ]
  },
  {
   "cell_type": "code",
   "execution_count": 2,
   "metadata": {},
   "outputs": [
    {
     "name": "stdout",
     "output_type": "stream",
     "text": [
      "Enter a stringhello bidur how are you\n",
      "Enter the integer6\n",
      "bidur how are you\n"
     ]
    }
   ],
   "source": [
    "# 3. Given a string and an integer number n, remove characters from a string starting\n",
    "# from zero up to n and return a new string.\n",
    "st = input(\"Enter a string\")\n",
    "num = int(input(\"Enter the integer\"))\n",
    "print(st[num:])"
   ]
  },
  {
   "cell_type": "code",
   "execution_count": 3,
   "metadata": {},
   "outputs": [
    {
     "name": "stdout",
     "output_type": "stream",
     "text": [
      "False\n"
     ]
    }
   ],
   "source": [
    "# 4. Given a list of numbers, return True if first and last number of a list is same.\n",
    "a=[]\n",
    "size = int(input(\"Enter the size of list\"))\n",
    "for i in range(size):\n",
    "    take = int(input(\"Enter the numbers\"))\n",
    "    a.append(take)\n",
    "if a[-1] == a[0]:\n",
    "    print(\"True\")\n",
    "else:\n",
    "    print(\"False\")"
   ]
  },
  {
   "cell_type": "code",
   "execution_count": 5,
   "metadata": {},
   "outputs": [
    {
     "name": "stdout",
     "output_type": "stream",
     "text": [
      "5\n",
      "5\n"
     ]
    }
   ],
   "source": [
    "# 5. Given a list of numbers, Iterate it and print only those numbers which are divisible of\n",
    "# 5.\n",
    "# a = [1,2,3,4,5,5,4,1,2,3,1,1]\n",
    "a=[]\n",
    "size = int(input(\"Enter the size of list\"))\n",
    "for i in range(size):\n",
    "    take = int(input(\"Enter the numbers\"))\n",
    "    a.append(take)\n",
    "for i in range(len(a)):\n",
    "    if(a[i]%5 == 0):\n",
    "        print(a[i])\n"
   ]
  },
  {
   "cell_type": "code",
   "execution_count": 19,
   "metadata": {},
   "outputs": [
    {
     "name": "stdout",
     "output_type": "stream",
     "text": [
      "ENte a sentencebidur bidur bidur\n",
      "enter a sub stringbidur\n",
      "3\n"
     ]
    }
   ],
   "source": [
    "# 6. Return the total count of sub-string appears in the given string.\n",
    "a = input(\"ENte a sentence\")\n",
    "sub = input(\"enter a sub string\")\n",
    "count =0\n",
    "# if(sub in a):\n",
    "#     count+=1;\n",
    "for i in range(len(a)):\n",
    "    if(a[i] == sub[0]):\n",
    "        temp = a[i:len(sub)]\n",
    "        if(temp in sub):\n",
    "            count+=1\n",
    "print(count)"
   ]
  },
  {
   "cell_type": "code",
   "execution_count": 17,
   "metadata": {},
   "outputs": [
    {
     "name": "stdout",
     "output_type": "stream",
     "text": [
      "Enter the size of list5\n",
      "Enter the numbers1\n",
      "Enter the numbers2\n",
      "Enter the numbers3\n",
      "Enter the numbers4\n",
      "Enter the numbers5\n",
      "[1, 2, 3, 4, 5]\n",
      "[5, 1, 2, 3, 4]\n"
     ]
    }
   ],
   "source": [
    "# ele = [1,2,3,4,5,6,7,8,9]\n",
    "ele=[]\n",
    "size = int(input(\"Enter the size of list\"))\n",
    "for i in range(size):\n",
    "    take = int(input(\"Enter the numbers\"))\n",
    "    ele.append(take)\n",
    "# temp = []\n",
    "print(ele)\n",
    "# temp.insert(0,ele[size-1])\n",
    "# temp += ele\n",
    "# temp.pop()\n",
    "temp = ele.pop()\n",
    "ele.insert(0,temp)\n",
    "\n",
    "# for i in range(size):\n",
    "#     if(i < size-1):\n",
    "#         temp.append(ele[i])\n",
    "# temp.insert(0,ele[size-1])\n",
    "print(ele)"
   ]
  },
  {
   "cell_type": "code",
   "execution_count": 23,
   "metadata": {},
   "outputs": [
    {
     "name": "stdout",
     "output_type": "stream",
     "text": [
      "Enter the number5\n",
      "1\t\n",
      "1\t2\t\n",
      "1\t2\t3\t\n",
      "1\t2\t3\t4\t\n",
      "1\t2\t3\t4\t5\t\n"
     ]
    }
   ],
   "source": [
    "# 7. Print the following pattern\n",
    "# 1\n",
    "# 1 2\n",
    "# 1 2 3\n",
    "# 1 2 3 4\n",
    "# 1 2 3 4 5\n",
    "\n",
    "a = int(input(\"Enter the number\"))\n",
    "for i in range(a):\n",
    "    for j in range(i+1):\n",
    "        print(j+1 ,end=\"\\t\")\n",
    "    print()"
   ]
  },
  {
   "cell_type": "code",
   "execution_count": 34,
   "metadata": {},
   "outputs": [
    {
     "name": "stdout",
     "output_type": "stream",
     "text": [
      "Enter a number123456\n",
      "No sae\n"
     ]
    }
   ],
   "source": [
    "# 8. Reverse a given number and return true if it is the same as the original number\n",
    "\n",
    "num = input(\"Enter a number\")\n",
    "num1 = num[::-1]\n",
    "if(num in num1 ):\n",
    "    print(\"same\")\n",
    "else:\n",
    "    print(\"No same\")"
   ]
  },
  {
   "cell_type": "code",
   "execution_count": 35,
   "metadata": {},
   "outputs": [
    {
     "name": "stdout",
     "output_type": "stream",
     "text": [
      "Enter the size of list5\n",
      "Enter the numbers for list 11\n",
      "Enter the numbers for list 22\n",
      "Enter the numbers for list 13\n",
      "Enter the numbers for list 24\n",
      "Enter the numbers for list 15\n",
      "Enter the numbers for list 26\n",
      "Enter the numbers for list 17\n",
      "Enter the numbers for list 28\n",
      "Enter the numbers for list 19\n",
      "Enter the numbers for list 210\n",
      "List 1 [1, 3, 5, 7, 9]\n",
      "List 2 [2, 4, 6, 8, 10]\n",
      "[1, 2, 3, 4, 5, 6, 7, 8, 9, 10]\n"
     ]
    }
   ],
   "source": [
    "# 9. Given a two list of numbers create a new list such that new list should contain only odd \n",
    "# numbers from the first list and even numbers from the second list.\n",
    "\n",
    "\n",
    "\n",
    "l1=[]\n",
    "l2=[]\n",
    "size = int(input(\"Enter the size of list\"))\n",
    "for i in range(size):\n",
    "    take = int(input(\"Enter the numbers for list 1\"))\n",
    "    l1.append(take)\n",
    "    take = int(input(\"Enter the numbers for list 2\"))\n",
    "    l2.append(take)\n",
    "temp = []\n",
    "print(\"List 1\",l1)\n",
    "print(\"List 2\",l2)\n",
    "for j in range(size):\n",
    "    if(l1[j]%2 != 0):\n",
    "        temp.append(l1[j])\n",
    "    if(l2[j]%2 == 0):\n",
    "        temp.append(l2[j])\n",
    "\n",
    "print(temp)"
   ]
  },
  {
   "cell_type": "code",
   "execution_count": 43,
   "metadata": {},
   "outputs": [
    {
     "name": "stdout",
     "output_type": "stream",
     "text": [
      "enter a number123456\n",
      "Extracted 6\n",
      "Extracted 5\n",
      "Extracted 4\n",
      "Extracted 3\n",
      "Extracted 2\n",
      "Extracted 1\n"
     ]
    }
   ],
   "source": [
    "# 10. Write a code to extract each digit from an integer, in the reverse order.\n",
    "\n",
    "a = input(\"enter a number\")\n",
    "n= -2\n",
    "print(\"Extracted\",a[-1:])\n",
    "for i in range(len(a)-1):\n",
    "    print(\"Extracted\",a[n:n+1])\n",
    "    n-=1\n",
    "# print(a[-3:-2])"
   ]
  },
  {
   "cell_type": "code",
   "execution_count": 45,
   "metadata": {},
   "outputs": [
    {
     "name": "stdout",
     "output_type": "stream",
     "text": [
      "Enter the size of list6\n",
      "Enter the numbers12\n",
      "Enter the numbers40\n",
      "Enter the numbers5\n",
      "Enter the numbers250\n",
      "Enter the numbers150\n",
      "Enter the numbers175\n",
      "Element 40\n",
      "Element 5\n",
      "Element 250\n"
     ]
    }
   ],
   "source": [
    "# 11. Given a list iterate it and display numbers which are divisible by 5 and if you find \n",
    "# number greater than 150 stop the loop iteration.\n",
    "\n",
    "ele=[]\n",
    "size = int(input(\"Enter the size of list\"))\n",
    "for i in range(size):\n",
    "    take = int(input(\"Enter the numbers\"))\n",
    "    ele.append(take)\n",
    "\n",
    "for i in range(size):\n",
    "    if(ele[i] > 150):\n",
    "        break\n",
    "    if(ele[i] % 5 == 0):\n",
    "        print(\"Element\",ele[i])\n",
    "    "
   ]
  },
  {
   "cell_type": "code",
   "execution_count": 46,
   "metadata": {},
   "outputs": [
    {
     "name": "stdout",
     "output_type": "stream",
     "text": [
      "ENter the starting5\n",
      "Enter your second10\n",
      "5 is prime\n",
      "6 is notprime\n",
      "7 is prime\n",
      "8 is notprime\n",
      "9 is notprime\n"
     ]
    }
   ],
   "source": [
    "\n",
    "\n",
    "# 12. Python program to display all the prime numbers within a range\n",
    "\n",
    "a = int(input(\"ENter the starting\"))\n",
    "b = int(input(\"Enter your second\"))\n",
    "# if(a ==0):\n",
    "#     print(\"zero is none\")\n",
    "#     a+=1\n",
    "#     print(\"! is prime\")\n",
    "for i in range(a,b):\n",
    "    temp = 0\n",
    "    for j in range(2,i//2):\n",
    "        if(i%j == 0):\n",
    "            temp=1\n",
    "            break\n",
    "    if(temp == 1):\n",
    "        print(i,\"is notprime\")\n",
    "    else:\n",
    "        print(i,\"is prime\")"
   ]
  },
  {
   "cell_type": "code",
   "execution_count": 47,
   "metadata": {},
   "outputs": [
    {
     "name": "stdout",
     "output_type": "stream",
     "text": [
      "Enter the size of list5\n",
      "Enter the numbers1\n",
      "Enter the numbers2\n",
      "Enter the numbers6\n",
      "Enter the numbers4\n",
      "Enter the numbers3\n",
      "1\n",
      "6\n",
      "3\n"
     ]
    }
   ],
   "source": [
    "# 13. Use a loop to display elements from a given list which are present at even positions\n",
    "ele=[]\n",
    "size = int(input(\"Enter the size of list\"))\n",
    "for i in range(size):\n",
    "    take = int(input(\"Enter the numbers\"))\n",
    "    ele.append(take)\n",
    "for i in range(size):\n",
    "    if(i%2 == 0):\n",
    "        print(ele[i])"
   ]
  },
  {
   "cell_type": "code",
   "execution_count": 50,
   "metadata": {},
   "outputs": [
    {
     "name": "stdout",
     "output_type": "stream",
     "text": [
      "Enter a number2\n",
      "Enter the range4\n",
      "Sum is 2468\n"
     ]
    }
   ],
   "source": [
    "# 14. Find the sum of the series 2 +22 + 222 + 2222 + .. n terms\n",
    "\n",
    "\n",
    "a = input(\"Enter a number\")\n",
    "n = int(input(\"Enter the range\"))\n",
    "temp = []\n",
    "for i in range(n):\n",
    "    num =int(a+(a*i))\n",
    "    temp.append(num)\n",
    "print(\"Sum is\",sum(temp))"
   ]
  },
  {
   "cell_type": "code",
   "execution_count": 51,
   "metadata": {},
   "outputs": [
    {
     "name": "stdout",
     "output_type": "stream",
     "text": [
      "Enter the size of list3\n",
      "Enter the numbers for list 11\n",
      "Enter the numbers for list 22\n",
      "Enter the numbers for list 13\n",
      "Enter the numbers for list 24\n",
      "Enter the numbers for list 15\n",
      "Enter the numbers for list 26\n",
      "List 1 [1, 3, 5]\n",
      "List 2 [2, 4, 6]\n",
      "[1, 2, 3, 4, 5, 6]\n"
     ]
    }
   ],
   "source": [
    "# 15. Given a two list. Create a third list by picking an odd-index element from the first list \n",
    "# and even index elements from second\n",
    "\n",
    "l1=[]\n",
    "l2=[]\n",
    "size = int(input(\"Enter the size of list\"))\n",
    "for i in range(size):\n",
    "    take = int(input(\"Enter the numbers for list 1\"))\n",
    "    l1.append(take)\n",
    "    take = int(input(\"Enter the numbers for list 2\"))\n",
    "    l2.append(take)\n",
    "temp = []\n",
    "print(\"List 1\",l1)\n",
    "print(\"List 2\",l2)\n",
    "for j in range(size):\n",
    "    if(l1[j]%2 != 0):\n",
    "        temp.append(l1[j])\n",
    "    if(l2[j]%2 == 0):\n",
    "        temp.append(l2[j])\n",
    "\n",
    "print(temp)"
   ]
  },
  {
   "cell_type": "code",
   "execution_count": 52,
   "metadata": {},
   "outputs": [
    {
     "name": "stdout",
     "output_type": "stream",
     "text": [
      "Enter the size of list6\n",
      "Enter the numbers1\n",
      "Enter the numbers2\n",
      "Enter the numbers3\n",
      "Enter the numbers4\n",
      "Enter the numbers5\n",
      "Enter the numbers6\n",
      "[1, 2, 3, 4, 5, 6]\n",
      "[1, 2, 8, 4, 11]\n"
     ]
    }
   ],
   "source": [
    "# 16. Given an input list removes the element at index 4 and add it to the 2nd position and \n",
    "# also, at the end of the list\n",
    "\n",
    "\n",
    "ele=[]\n",
    "size = int(input(\"Enter the size of list\"))\n",
    "for i in range(size):\n",
    "    take = int(input(\"Enter the numbers\"))\n",
    "    ele.append(take)\n",
    "print(ele)\n",
    "temp = ele.pop(4)\n",
    "ele[2] += temp\n",
    "ele[size-2] +=temp\n",
    "print(ele)\n"
   ]
  },
  {
   "cell_type": "code",
   "execution_count": 1,
   "metadata": {},
   "outputs": [
    {
     "name": "stdout",
     "output_type": "stream",
     "text": [
      "Enter the size of list10\n",
      "Enter the numbers1\n",
      "Enter the numbers2\n",
      "Enter the numbers3\n",
      "Enter the numbers4\n",
      "Enter the numbers5\n",
      "Enter the numbers6\n",
      "Enter the numbers7\n",
      "Enter the numbers8\n",
      "Enter the numbers9\n",
      "Enter the numbers10\n",
      "Original [1, 2, 3, 4, 5, 6, 7, 8, 9, 10]\n"
     ]
    },
    {
     "ename": "AttributeError",
     "evalue": "'list' object has no attribute 'indexes'",
     "output_type": "error",
     "traceback": [
      "\u001b[1;31m---------------------------------------------------------------------------\u001b[0m",
      "\u001b[1;31mAttributeError\u001b[0m                            Traceback (most recent call last)",
      "\u001b[1;32m<ipython-input-1-85bd824704f5>\u001b[0m in \u001b[0;36m<module>\u001b[1;34m\u001b[0m\n\u001b[0;32m      9\u001b[0m \u001b[0mnew\u001b[0m \u001b[1;33m=\u001b[0m \u001b[1;33m[\u001b[0m\u001b[1;33m]\u001b[0m\u001b[1;33m\u001b[0m\u001b[1;33m\u001b[0m\u001b[0m\n\u001b[0;32m     10\u001b[0m \u001b[0mnum\u001b[0m \u001b[1;33m=\u001b[0m \u001b[0msize\u001b[0m\u001b[1;33m//\u001b[0m\u001b[1;36m3\u001b[0m\u001b[1;33m\u001b[0m\u001b[1;33m\u001b[0m\u001b[0m\n\u001b[1;32m---> 11\u001b[1;33m \u001b[0ml1\u001b[0m\u001b[1;33m=\u001b[0m \u001b[0mele\u001b[0m\u001b[1;33m.\u001b[0m\u001b[0mindexes\u001b[0m\u001b[1;33m\u001b[0m\u001b[1;33m\u001b[0m\u001b[0m\n\u001b[0m",
      "\u001b[1;31mAttributeError\u001b[0m: 'list' object has no attribute 'indexes'"
     ]
    }
   ],
   "source": [
    "# 17. Given a list slice it into a 3 equal chunks and reverse each list\n",
    "\n",
    "ele=[]\n",
    "size = int(input(\"Enter the size of list\"))\n",
    "for i in range(size):\n",
    "    take = int(input(\"Enter the numbers\"))\n",
    "    ele.append(take)\n",
    "print(\"Original\",ele)\n",
    "new = []\n",
    "num = size//3\n",
    "l1= ele.indexes"
   ]
  },
  {
   "cell_type": "code",
   "execution_count": null,
   "metadata": {},
   "outputs": [],
   "source": [
    "# 18. Given a two list of equal size create a set such that it shows the element from both lists \n",
    "# in the pair.\n",
    "\n",
    "ele1=[]\n",
    "ele2=[]\n",
    "size1 = int(input(\"Enter the size of first list\"))\n",
    "for i in range(size1):\n",
    "    take = int(input(\"Enter the number for first\"))\n",
    "    ele1.append(take)\n",
    "    take = int(input(\"Enter the number for second\"))\n",
    "    ele2.append(take)\n",
    "print(\"Original First\",ele1)\n",
    "print(\"Original Second\",ele2)\n",
    "sets = set(ele1)\n",
    "sets.update(set(ele2))\n",
    "print(sets)"
   ]
  },
  {
   "cell_type": "code",
   "execution_count": 2,
   "metadata": {},
   "outputs": [
    {
     "name": "stdout",
     "output_type": "stream",
     "text": [
      "Enter a string more than 3 and odd numbershellohowareyoubidur\n",
      "are\n"
     ]
    }
   ],
   "source": [
    "# 19 Given a string of odd length greater 7, return a string made of the middle three char\n",
    "# of a given String.\n",
    "a = input(\"Enter a string more than 3 and odd numbers\")\n",
    "if len(a) < 8:\n",
    "    print(\"Length not meet\")\n",
    "elif len(a) % 2 == 0:\n",
    "    print(\"Only odd length accepted\")\n",
    "else:\n",
    "    temp = len(a) //2\n",
    "    print(a[temp-1:temp+2])\n",
    "\n",
    "\n"
   ]
  },
  {
   "cell_type": "code",
   "execution_count": 4,
   "metadata": {},
   "outputs": [
    {
     "name": "stdout",
     "output_type": "stream",
     "text": [
      "enter first stringhello hii\n",
      "enter second stringheiii bidur sahoo\n",
      "hello heiii bidur sahoo  hii\n"
     ]
    }
   ],
   "source": [
    "# 20. Given 2 strings, s1 and s2, create a new string by appending s2 in the middle of s1\n",
    "s1 = input(\"enter first string\")\n",
    "s2 = input(\"enter second string\")\n",
    "temp = len(s1)//2\n",
    "s3 = s1[:temp] + \" \" + s2 + \" \" + s1[temp+1:]\n",
    "print(s3)"
   ]
  },
  {
   "cell_type": "code",
   "execution_count": 8,
   "metadata": {},
   "outputs": [
    {
     "name": "stdout",
     "output_type": "stream",
     "text": [
      "enter first string123456\n",
      "enter second string789456\n",
      "174466\n"
     ]
    }
   ],
   "source": [
    "# 21. Given 2 strings, s1, and s2 return a new string made of the first, middle and last \n",
    "# character of each input string\n",
    "s1 = input(\"enter first string\")\n",
    "s2 = input(\"enter second string\")\n",
    "temp = len(s1)//2\n",
    "temp2 = len(s2)//2\n",
    "hehe = s1[len(s1)-1]+s2[len(s2)-1]\n",
    "s3 = s1[0]+s2[0]+s1[temp]+s2[temp]+hehe\n",
    "print(s3)\n"
   ]
  },
  {
   "cell_type": "code",
   "execution_count": 5,
   "metadata": {},
   "outputs": [
    {
     "name": "stdout",
     "output_type": "stream",
     "text": [
      "Enter a wordhelloBiduR\n",
      "['h', 'e', 'l', 'l', 'o', 'B', 'i', 'd', 'u', 'R']\n",
      "['u', 'd', 'i', 'o', 'l', 'l', 'e', 'h', 'B', 'R']\n"
     ]
    }
   ],
   "source": [
    "# 22. Arrange string characters such that lowercase letters should come first.\n",
    "st = input(\"Enter a word\")\n",
    "l = []\n",
    "for letter in st:\n",
    "    l.append(letter)\n",
    "print(l)\n",
    "for i in range(len(l)):\n",
    "    if l[i].islower():\n",
    "        l.insert(0,l.pop(i))  \n",
    "print(l)"
   ]
  },
  {
   "cell_type": "code",
   "execution_count": 7,
   "metadata": {},
   "outputs": [
    {
     "name": "stdout",
     "output_type": "stream",
     "text": [
      "Enter a wordhelloBihduevhvVJhkvsjgdvksdkkjb97649634$^%%&^&\n",
      "['h', 'e', 'l', 'l', 'o', 'B', 'i', 'h', 'd', 'u', 'e', 'v', 'h', 'v', 'V', 'J', 'h', 'k', 'v', 's', 'j', 'g', 'd', 'v', 'k', 's', 'd', 'k', 'k', 'j', 'b', '9', '7', '6', '4', '9', '6', '3', '4', '$', '^', '%', '%', '&', '^', '&']\n",
      "Special Character: 7 \n",
      "Lower Character: 28 \n",
      "Upper Character: 3 \n",
      "Number Character: 8\n"
     ]
    }
   ],
   "source": [
    "# 23. Count all lower case, upper case, digits, and special symbols from a given string.\n",
    "st = input(\"Enter a word\")\n",
    "l = []\n",
    "for letter in st:\n",
    "    l.append(letter)\n",
    "print(l)\n",
    "countNum = 0\n",
    "countLow = 0\n",
    "countSpe = 0\n",
    "countUp = 0\n",
    "for i in range(len(l)):\n",
    "    if l[i].islower():\n",
    "        countLow+=1\n",
    "    elif l[i].isupper():\n",
    "        countUp+=1\n",
    "    elif l[i].isdigit():\n",
    "        countNum+=1\n",
    "    else:\n",
    "        countSpe+=1   \n",
    "print(\"Special Character:\",countSpe,\"\\nLower Character:\",countLow,\"\\nUpper Character:\",countUp,\"\\nNumber Character:\",countNum)\n"
   ]
  },
  {
   "cell_type": "code",
   "execution_count": 8,
   "metadata": {},
   "outputs": [
    {
     "name": "stdout",
     "output_type": "stream",
     "text": [
      "Enter a wordhelloBihduevhvVJhkvsjgdvksdkkjb97649634$^%%&^&\n",
      "['h', 'e', 'l', 'l', 'o', 'B', 'i', 'h', 'd', 'u', 'e', 'v', 'h', 'v', 'V', 'J', 'h', 'k', 'v', 's', 'j', 'g', 'd', 'v', 'k', 's', 'd', 'k', 'k', 'j', 'b', '9', '7', '6', '4', '9', '6', '3', '4', '$', '^', '%', '%', '&', '^', '&']\n",
      "Sum is  48\n",
      "Avg is  6.0\n"
     ]
    }
   ],
   "source": [
    "# 24. Given a string, return the sum and average of the digits that appear in the string,\n",
    "# ignoring all other characters.\n",
    "st = input(\"Enter a word\")\n",
    "l = [] \n",
    "for letter in st:\n",
    "    l.append(letter)  \n",
    "print(l)\n",
    "countNum = 0\n",
    "count = 0\n",
    "for i in range(len(l)):\n",
    "    if l[i].isdigit():\n",
    "        countNum+=int(l[i])\n",
    "        count+=1\n",
    "print(\"Sum is \",countNum)\n",
    "print(\"Avg is \",countNum/count)"
   ]
  },
  {
   "cell_type": "code",
   "execution_count": 6,
   "metadata": {},
   "outputs": [
    {
     "name": "stdout",
     "output_type": "stream",
     "text": [
      "* \n",
      "* * \n",
      "* * * \n",
      "* * * * \n",
      "* * * * * \n",
      "* * * * \n",
      "* * * \n",
      "* * \n",
      "* \n"
     ]
    }
   ],
   "source": [
    "# 25. Print the following pattern.\n",
    "# *\n",
    "# * *\n",
    "# * * *\n",
    "# * * * *\n",
    "# * * * * *\n",
    "# * * * *\n",
    "# * * *\n",
    "# * *\n",
    "# *\n",
    "a = int(input(\"Enter the number\"))\n",
    "for i in range(a):\n",
    "    for j in range(i+1):\n",
    "        print(\"* \",end=\"\")\n",
    "    print()\n",
    "for i in range(a-1):\n",
    "    for j in range(a-i-1):\n",
    "        print(\"* \",end=\"\")\n",
    "    print()"
   ]
  }
 ],
 "metadata": {
  "kernelspec": {
   "display_name": "Python 3",
   "language": "python",
   "name": "python3"
  },
  "language_info": {
   "codemirror_mode": {
    "name": "ipython",
    "version": 3
   },
   "file_extension": ".py",
   "mimetype": "text/x-python",
   "name": "python",
   "nbconvert_exporter": "python",
   "pygments_lexer": "ipython3",
   "version": "3.10.5"
  },
  "vscode": {
   "interpreter": {
    "hash": "26de051ba29f2982a8de78e945f0abaf191376122a1563185a90213a26c5da77"
   }
  }
 },
 "nbformat": 4,
 "nbformat_minor": 2
}
