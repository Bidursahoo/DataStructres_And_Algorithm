{
 "cells": [
  {
   "cell_type": "code",
   "execution_count": 2,
   "metadata": {},
   "outputs": [
    {
     "name": "stdout",
     "output_type": "stream",
     "text": [
      "(33, 44)\n",
      "(11, 22)\n"
     ]
    }
   ],
   "source": [
    "#1> Swap the following two tuples\n",
    "# Input: tuple1 = (11, 22)\n",
    "#            tuple2 = (99, 88)\n",
    "# Output: tuple1 = (99, 88)\n",
    "#              tuple2 = (11, 22)\n",
    "t1 = (11,22)\n",
    "t2 = (33,44)\n",
    "t1,t2 = t2,t1\n",
    "print(t1)\n",
    "print(t2)"
   ]
  },
  {
   "cell_type": "code",
   "execution_count": 5,
   "metadata": {},
   "outputs": [
    {
     "name": "stdout",
     "output_type": "stream",
     "text": [
      "(44, 55)\n"
     ]
    }
   ],
   "source": [
    "# 2> Copy element 44 and 55 from the following tuple into a new tuple\n",
    "# Input: tuple1 = (11, 22, 33, 44, 55, 66)\n",
    "# Output: tuple2: (44, 55)\n",
    "t1 = (11,22,33,44,55,66,77,88)\n",
    "t2=()\n",
    "t2 = list(t2)\n",
    "t2.append(t1[3])\n",
    "t2.append(t1[4])\n",
    "t2 = tuple(t2)\n",
    "print(t2)"
   ]
  },
  {
   "cell_type": "code",
   "execution_count": 8,
   "metadata": {},
   "outputs": [
    {
     "name": "stdout",
     "output_type": "stream",
     "text": [
      "(11, [222, 33], 44, 55)\n"
     ]
    }
   ],
   "source": [
    "# 3> Modify the first item (22) of a list inside a following tuple to 222\n",
    "# Input: tuple1 = (11, [22, 33], 44, 55)\n",
    "# Output: tuple1: (11, [222, 33], 44, 55)\n",
    "t1 = (11, [22, 33], 44, 55)\n",
    "t1[1][0] = 222\n",
    "print(t1)"
   ]
  },
  {
   "cell_type": "code",
   "execution_count": 9,
   "metadata": {},
   "outputs": [
    {
     "name": "stdout",
     "output_type": "stream",
     "text": [
      "2\n"
     ]
    }
   ],
   "source": [
    "# 4> Counts the number of occurrences of item 50 from a tuple\n",
    "# Input: tuple1 = (50, 10, 60, 70, 50), Output:2\n",
    "t1 = (50, 10, 60, 70, 50)\n",
    "sum = 0\n",
    "for i in range(len(t1)):\n",
    "    if t1[i] == 50:\n",
    "        sum+=1\n",
    "print(sum)\n"
   ]
  },
  {
   "cell_type": "code",
   "execution_count": 11,
   "metadata": {},
   "outputs": [
    {
     "name": "stdout",
     "output_type": "stream",
     "text": [
      "not equal\n"
     ]
    }
   ],
   "source": [
    "# 5> Check if all items in the following tuple are the same\n",
    "t1 = (11,22,33,44,5,66,77)\n",
    "t2 = (11,22,33,44,55,66,77)\n",
    "for i in range(len(t1)):\n",
    "    if t1[i] != t2[i]:\n",
    "        print(\"not equal\")\n",
    "        break\n",
    "if i == len(t1)-1:\n",
    "    print(\"Equal\")"
   ]
  }
 ],
 "metadata": {
  "kernelspec": {
   "display_name": "Python 3",
   "language": "python",
   "name": "python3"
  },
  "language_info": {
   "codemirror_mode": {
    "name": "ipython",
    "version": 3
   },
   "file_extension": ".py",
   "mimetype": "text/x-python",
   "name": "python",
   "nbconvert_exporter": "python",
   "pygments_lexer": "ipython3",
   "version": "3.10.5"
  },
  "orig_nbformat": 4,
  "vscode": {
   "interpreter": {
    "hash": "26de051ba29f2982a8de78e945f0abaf191376122a1563185a90213a26c5da77"
   }
  }
 },
 "nbformat": 4,
 "nbformat_minor": 2
}
