{
 "cells": [
  {
   "cell_type": "code",
   "execution_count": 2,
   "metadata": {},
   "outputs": [
    {
     "name": "stdout",
     "output_type": "stream",
     "text": [
      "Enter your unit350\n",
      "2000\n"
     ]
    }
   ],
   "source": [
    "# Q1  Write a program to calculate the electricity bill (accept number of unit from user) according to the following criteria :\n",
    "#              Unit                                                     Price  \n",
    "# First 100 units                                               no charge\n",
    "# Next 100 units                                              Rs 5 per unit\n",
    "# After 200 units                                             Rs 10 per unit\n",
    "# (For example if input unit is 350 than total bill amount is Rs2000)\n",
    "a = int(input(\"Enter your unit\"))\n",
    "price = 0\n",
    "for i in range(1,a+1):\n",
    "    if i > 100 and i <= 200:\n",
    "        price+= 5\n",
    "    elif i > 200:\n",
    "        price += 10\n",
    "print(price)"
   ]
  },
  {
   "cell_type": "code",
   "execution_count": 4,
   "metadata": {},
   "outputs": [
    {
     "name": "stdout",
     "output_type": "stream",
     "text": [
      "Enter a number13\n",
      "Divisible\n"
     ]
    }
   ],
   "source": [
    "# Q2. Write a program to check whether the last digit of a number( entered by user ) is divisible by 3 or not.\n",
    "a = int(input(\"Enter a number\"))\n",
    "temp = a%10\n",
    "if temp % 3 ==0 :\n",
    "    print(\"Divisible\")\n",
    "else:\n",
    "    print(\"Not divisible\")"
   ]
  },
  {
   "cell_type": "code",
   "execution_count": 6,
   "metadata": {},
   "outputs": [
    {
     "name": "stdout",
     "output_type": "stream",
     "text": [
      "Enter a number10\n",
      "Hello\n"
     ]
    }
   ],
   "source": [
    "# Q3. Write a program to display \"Hello\" if a number entered by user is a multiple of five , otherwise print \"Bye\".\n",
    "a = int(input(\"Enter a number\"))\n",
    "if a % 5== 0:\n",
    "    print(\"Hello\")\n",
    "else:\n",
    "    print(\"bye\")"
   ]
  },
  {
   "cell_type": "code",
   "execution_count": 1,
   "metadata": {},
   "outputs": [
    {
     "name": "stdout",
     "output_type": "stream",
     "text": [
      "Enter your salary:120000\n",
      "Input your salary:10\n",
      "Net bonus is 10368.000000000002\n",
      "Your net salary is 129600.00000000001\n"
     ]
    }
   ],
   "source": [
    "# Q4.  A company decided to give bonus to employee according to following criteria:\n",
    "#     Time period of Service                Bonus\n",
    "#     More than 10 years             \t    10%\n",
    "#     >=6 and <=10              \t\t     8%\n",
    "#     Less than 6 years           \t     5%\n",
    "#     Ask user for their salary and years of service and print the net bonus amount.\n",
    "sal = int(input(\"Enter your salary:\"))\n",
    "service = int(input(\"Input your salary:\"))\n",
    "if(service > 10):\n",
    "    sal = sal*1.1\n",
    "    print(\"Net bonus is\",0.1*sal)\n",
    "elif(service >=6) and (service <=10):\n",
    "    sal = sal*1.08\n",
    "    print(\"Net bonus is\",0.08*sal)\n",
    "else:\n",
    "    sal = sal *1.05\n",
    "    print(\"Net bonus is\",0.05*sal)\n",
    "print(\"Your net salary is\",sal)"
   ]
  },
  {
   "cell_type": "code",
   "execution_count": 2,
   "metadata": {},
   "outputs": [
    {
     "name": "stdout",
     "output_type": "stream",
     "text": [
      "ENter the starting10\n",
      "Enter your second20\n",
      "10 is notprime\n",
      "11 is prime\n",
      "12 is notprime\n",
      "13 is prime\n",
      "14 is notprime\n",
      "15 is notprime\n",
      "16 is notprime\n",
      "17 is prime\n",
      "18 is notprime\n",
      "19 is prime\n"
     ]
    }
   ],
   "source": [
    "# Q5.    Write a program to display all prime numbers within a range\n",
    "a = int(input(\"ENter the starting\"))\n",
    "b = int(input(\"Enter your second\"))\n",
    "for i in range(a,b):\n",
    "    temp = 0\n",
    "    for j in range(2,i//2):\n",
    "        if(i%j == 0):\n",
    "            temp=1\n",
    "            break\n",
    "    if(temp == 1):\n",
    "        print(i,\"is notprime\")\n",
    "    else:\n",
    "        print(i,\"is prime\")"
   ]
  },
  {
   "cell_type": "code",
   "execution_count": 3,
   "metadata": {},
   "outputs": [
    {
     "name": "stdout",
     "output_type": "stream",
     "text": [
      "Enter a number12\n",
      "Fizz\n"
     ]
    }
   ],
   "source": [
    "# Q6.  Write a python program that takes a number.\n",
    "# 1.\tIf the number is divisible by 3, it should return “Fizz”.\n",
    "# 2.\tIf it is divisible by 5, it should return “Buzz”.\n",
    "# 3.\tIf it is divisible by both 3 and 5, it should return “FizzBuzz”.\n",
    "# 4.\tOtherwise, it should return the same number.\n",
    "a = int(input(\"Enter a number\"))\n",
    "if (a%3==0) and (a%5 != 0):\n",
    "    print(\"Fizz\")\n",
    "elif (a%5==0) and (a%3 != 0):\n",
    "    print(\"Buzz\")\n",
    "elif (a%3==0) and (a%5 == 0):\n",
    "    print(\"FizzBuzz\")\n",
    "else:\n",
    "    print(\"Your number\",a)"
   ]
  },
  {
   "cell_type": "code",
   "execution_count": 4,
   "metadata": {},
   "outputs": [
    {
     "name": "stdout",
     "output_type": "stream",
     "text": [
      "Enter your speed:50\n",
      "Ok\n"
     ]
    }
   ],
   "source": [
    "# Q7.      Write a program for checking the speed of drivers. This function should have one parameter: speed.\n",
    "# 1.\tIf speed is less than 70, it should print “Ok”.\n",
    "# 2.\tOtherwise, for every 5km above the speed limit (70), it should give the driver one demerit point and print the total number of demerit points. For example, if the speed is 80, it should print: “Points: 2”.\n",
    "# 3.\tIf the driver gets more than 12 points, the function should print: “License suspended”\n",
    "speed = int(input(\"Enter your speed:\"))\n",
    "if speed < 70:\n",
    "    print(\"Ok\")\n",
    "else:\n",
    "    temp = 70\n",
    "    point = 0\n",
    "    for i in range(13):\n",
    "        if(temp < speed):\n",
    "            temp += 5\n",
    "            point +=1\n",
    "        else:\n",
    "            break\n",
    "    if(temp < speed):\n",
    "            print(\"License Suspended\")\n",
    "    else:\n",
    "        print(\"Your point\",point)\n"
   ]
  },
  {
   "cell_type": "code",
   "execution_count": null,
   "metadata": {},
   "outputs": [],
   "source": []
  }
 ],
 "metadata": {
  "kernelspec": {
   "display_name": "Python 3",
   "language": "python",
   "name": "python3"
  },
  "language_info": {
   "codemirror_mode": {
    "name": "ipython",
    "version": 3
   },
   "file_extension": ".py",
   "mimetype": "text/x-python",
   "name": "python",
   "nbconvert_exporter": "python",
   "pygments_lexer": "ipython3",
   "version": "3.7.4"
  }
 },
 "nbformat": 4,
 "nbformat_minor": 2
}
