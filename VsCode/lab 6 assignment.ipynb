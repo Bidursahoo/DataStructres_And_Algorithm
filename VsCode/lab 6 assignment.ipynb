{
 "cells": [
  {
   "cell_type": "code",
   "execution_count": 2,
   "metadata": {},
   "outputs": [
    {
     "name": "stdout",
     "output_type": "stream",
     "text": [
      "Enter a number5\n",
      "<class 'int'>\n",
      "<class 'str'>\n",
      "<class 'float'>\n",
      "<class 'int'>\n"
     ]
    }
   ],
   "source": [
    "# Write a Program to convert an integer number into string and a float to an integer\n",
    "\n",
    "a = int(input(\"Enter a number\"))\n",
    "print(type(a))\n",
    "b = str(a)\n",
    "print(type(b))\n",
    "c = float(a)\n",
    "print(type(c))\n",
    "d = int(c)\n",
    "print(type(d))"
   ]
  },
  {
   "cell_type": "code",
   "execution_count": 13,
   "metadata": {},
   "outputs": [
    {
     "name": "stdout",
     "output_type": "stream",
     "text": [
      "Enter a year2020\n",
      "Enter a month9\n",
      "   September 2020\n",
      "Mo Tu We Th Fr Sa Su\n",
      "    1  2  3  4  5  6\n",
      " 7  8  9 10 11 12 13\n",
      "14 15 16 17 18 19 20\n",
      "21 22 23 24 25 26 27\n",
      "28 29 30\n",
      "\n"
     ]
    }
   ],
   "source": [
    "# Write a program to print the calendar for the month of September, 2020.\n",
    "\n",
    "import calendar\n",
    "a = int(input(\"Enter a year\"))\n",
    "b = int(input(\"Enter a month\"))\n",
    "print(calendar.month(a,b))"
   ]
  },
  {
   "cell_type": "code",
   "execution_count": 7,
   "metadata": {},
   "outputs": [
    {
     "name": "stdout",
     "output_type": "stream",
     "text": [
      "bidur25000\n",
      "Sahoo45000\n"
     ]
    }
   ],
   "source": [
    "# Write a function that takes exactly two arguments. One argument is the name of  the student, the other argument is fees and a default fee is 25000. Display at least  two outputs in support of your answer.\n",
    "\n",
    "fee = 25000\n",
    "def args(m,n):\n",
    "    n= str(n)\n",
    "    print(m+n)\n",
    "\n",
    "args(\"bidur\",fee)\n",
    "fee = 45000\n",
    "args(\"Sahoo\" , fee)"
   ]
  },
  {
   "cell_type": "code",
   "execution_count": 8,
   "metadata": {},
   "outputs": [
    {
     "name": "stdout",
     "output_type": "stream",
     "text": [
      "25\n"
     ]
    }
   ],
   "source": [
    "# Write a function which accepts two numbers and returns their sum.\n",
    "\n",
    "\n",
    "def sums(m,n):\n",
    "    return m+n\n",
    "\n",
    "print(sums(12,13))"
   ]
  },
  {
   "cell_type": "code",
   "execution_count": 15,
   "metadata": {},
   "outputs": [
    {
     "name": "stdout",
     "output_type": "stream",
     "text": [
      "Enter a number12\n",
      "Enter a number10\n",
      "Original \n",
      "a : 12 \n",
      "b : 10\n",
      "Updated \n",
      "a : 10 \n",
      "b : 12\n"
     ]
    }
   ],
   "source": [
    "\n",
    "\n",
    "# A function to swap two values at calling function.\n",
    "\n",
    "\n",
    "def swap(a,b):\n",
    "    a,b=b,a\n",
    "    print(\"Updated \\na :\",a,\"\\nb :\",b)\n",
    "\n",
    "a = int(input(\"Enter a number\"))\n",
    "b = int(input(\"Enter a number\"))\n",
    "print(\"Original \\na :\",a,\"\\nb :\",b)\n",
    "swap(a,b)\n",
    "\n"
   ]
  },
  {
   "cell_type": "code",
   "execution_count": 19,
   "metadata": {},
   "outputs": [
    {
     "name": "stdout",
     "output_type": "stream",
     "text": [
      "b\n",
      "b\n",
      "b\n",
      "b\n",
      "b\n",
      "b\n",
      "b\n",
      "b\n",
      "b\n",
      "b\n",
      "b\n",
      "b\n",
      "b\n",
      "b\n",
      "b\n",
      "b\n",
      "b\n",
      "b\n",
      "b\n",
      "b\n",
      "b\n",
      "b\n",
      "b\n",
      "b\n",
      "b\n",
      "b\n",
      "b\n"
     ]
    }
   ],
   "source": [
    "# Write a function called ninelines that uses a function threelines to print nine blank\n",
    "# lines. Print twenty seven new lines using this.\n",
    "\n",
    "\n",
    "def threelines():\n",
    "    for i in range(3):\n",
    "        print(\"b\")\n",
    "def ninelines():\n",
    "    threelines()\n",
    "    threelines()\n",
    "    threelines()\n",
    "    \n",
    "ninelines()\n",
    "ninelines()\n",
    "ninelines()"
   ]
  },
  {
   "cell_type": "code",
   "execution_count": 23,
   "metadata": {},
   "outputs": [
    {
     "name": "stdout",
     "output_type": "stream",
     "text": [
      "hcf is 10\n"
     ]
    }
   ],
   "source": [
    "# Write a function to find the HCF of some given numbers.\n",
    "\n",
    "\n",
    "\n",
    "def hcf(m, n):\n",
    "    if m > n:\n",
    "        sam = n\n",
    "    else:\n",
    "        sam = m\n",
    "    for i in range(1, sam+1):\n",
    "        if((m % i == 0) and (n % i == 0)):\n",
    "            hcf = i \n",
    "    return hcf\n",
    "print(\"hcf is\",hcf(10,40))"
   ]
  },
  {
   "cell_type": "code",
   "execution_count": 25,
   "metadata": {},
   "outputs": [
    {
     "name": "stdout",
     "output_type": "stream",
     "text": [
      "Enter a charcterb\n",
      "98\n"
     ]
    }
   ],
   "source": [
    "# Write a function to find the ASCII value of the character.\n",
    "\n",
    "\n",
    "a = input(\"Enter a charcter\")\n",
    "print(ord(a))"
   ]
  },
  {
   "cell_type": "code",
   "execution_count": 30,
   "metadata": {},
   "outputs": [
    {
     "name": "stdout",
     "output_type": "stream",
     "text": [
      "input a stringhello bidur i am\n",
      "None\n",
      "None\n",
      "Vowel i\n",
      "Vowel a\n",
      "Number of vowels 2\n"
     ]
    }
   ],
   "source": [
    "# A function to count and display the words starting with vowels\n",
    "def check_vowels(s):\n",
    "    sets = {'a','A','e','i','o','u' ,'E','I','O','U'}\n",
    "    if s in sets:\n",
    "        print(\"Vowel\", s)\n",
    "        return 1\n",
    "    else:\n",
    "        print(\"None\")\n",
    "        return 0\n",
    "        \n",
    "def check_string(a):\n",
    "    count = 0\n",
    "    li = a.split()\n",
    "    size = len(li)\n",
    "    for i in range(size):\n",
    "        tem = check_vowels(li[i][0])\n",
    "        if tem == 1:\n",
    "            count+=1\n",
    "    print(\"Number of vowels\",count)\n",
    "    \n",
    "    \n",
    "a = input(\"input a string\")\n",
    "check_string(a)"
   ]
  },
  {
   "cell_type": "code",
   "execution_count": 2,
   "metadata": {},
   "outputs": [
    {
     "name": "stdout",
     "output_type": "stream",
     "text": [
      "0.96875\n"
     ]
    }
   ],
   "source": [
    "\n",
    "\n",
    "# A function to evaluate the following series using recursion  (1/2)+(1/4)+(1/8). . . + (1/2*n) , n passed as an argument to the function.\n",
    "\n",
    "\n",
    "def add(n , m):\n",
    "    if(n < m):\n",
    "        return 0\n",
    "    return (1/(2**m))+ add(n,m+1)\n",
    "\n",
    "print(add(5,1))"
   ]
  },
  {
   "cell_type": "code",
   "execution_count": 7,
   "metadata": {},
   "outputs": [
    {
     "name": "stdout",
     "output_type": "stream",
     "text": [
      "Enter your number: 25244541\n",
      "Binary 0b1100000010011001101111101\n",
      "Hexadecimal 0x181337d\n",
      "Octal 0o140231575\n"
     ]
    }
   ],
   "source": [
    "# Write a function to convert a decimal number to its binary, octal and hexadecimal\n",
    "# equivalents\n",
    "\n",
    "def binary(n):\n",
    "    print(\"Binary\",bin(n))\n",
    "def hexadec(n):\n",
    "    print(\"Hexadecimal\",hex(n))\n",
    "def octa(n):\n",
    "    print(\"Octal\",oct(n))\n",
    "a = int(input(\"Enter your number: \"))\n",
    "binary(a)\n",
    "hexadec(a)\n",
    "octa(a)\n",
    "        \n"
   ]
  },
  {
   "cell_type": "code",
   "execution_count": 1,
   "metadata": {},
   "outputs": [
    {
     "name": "stdout",
     "output_type": "stream",
     "text": [
      "Enter a numnber to view fibanacci 10\n",
      "Fibo is: 0\n",
      "Fibo is: 1\n",
      "Fibo is: 1\n",
      "Fibo is: 2\n",
      "Fibo is: 3\n",
      "Fibo is: 5\n",
      "Fibo is: 8\n",
      "Fibo is: 13\n",
      "Fibo is: 21\n",
      "Fibo is: 34\n",
      "Fibo is: 55\n"
     ]
    }
   ],
   "source": [
    "# Write a function to display Fibonacci sequence using recursion\n",
    "def fibo(n):\n",
    "    if (n <= 1):\n",
    "        return n\n",
    "    return fibo(n - 1) + fibo(n - 2)\n",
    "a = int(input(\"Enter a numnber to view fibanacci \"))\n",
    "for i in range(0,a+1):\n",
    "    print(\"Fibo is:\",fibo(i))"
   ]
  },
  {
   "cell_type": "code",
   "execution_count": 22,
   "metadata": {},
   "outputs": [
    {
     "name": "stdout",
     "output_type": "stream",
     "text": [
      "Hela auu 15\n"
     ]
    }
   ],
   "source": [
    "# Write a function to find the sum of several natural numbers using recursion.\n",
    "\n",
    "def misao(n):\n",
    "    if(n == 0):\n",
    "        return n\n",
    "    return n + misao(n-1)\n",
    "print(\"Hela auu\",misao(5))"
   ]
  },
  {
   "cell_type": "code",
   "execution_count": null,
   "metadata": {},
   "outputs": [],
   "source": []
  }
 ],
 "metadata": {
  "kernelspec": {
   "display_name": "Python 3",
   "language": "python",
   "name": "python3"
  },
  "language_info": {
   "codemirror_mode": {
    "name": "ipython",
    "version": 3
   },
   "file_extension": ".py",
   "mimetype": "text/x-python",
   "name": "python",
   "nbconvert_exporter": "python",
   "pygments_lexer": "ipython3",
   "version": "3.7.4"
  }
 },
 "nbformat": 4,
 "nbformat_minor": 2
}
