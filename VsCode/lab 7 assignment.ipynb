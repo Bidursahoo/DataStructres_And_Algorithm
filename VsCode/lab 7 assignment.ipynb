{
 "cells": [
  {
   "cell_type": "code",
   "execution_count": 1,
   "metadata": {},
   "outputs": [
    {
     "name": "stdout",
     "output_type": "stream",
     "text": [
      "enter the number of elements of sets : 5\n",
      "Enter dataa\n",
      "Enter datab\n",
      "Enter datac\n",
      "Enter datad\n",
      "Enter datae\n",
      "{'c', 'd', 'e', 'b', 'a'}\n"
     ]
    }
   ],
   "source": [
    "# Write a Python program to create a set.\n",
    "a = int(input(\"enter the number of elements of sets : \"))\n",
    "haha ={\"a\"}\n",
    "for i in range(a):\n",
    "    en = input(\"Enter data\")\n",
    "    haha.add(en)\n",
    "print(haha)"
   ]
  },
  {
   "cell_type": "code",
   "execution_count": 2,
   "metadata": {},
   "outputs": [
    {
     "name": "stdout",
     "output_type": "stream",
     "text": [
      "c\n",
      "b\n",
      "d\n",
      "a\n"
     ]
    }
   ],
   "source": [
    "# Write a Python program to iterate over sets\n",
    "hoho = {'a', 'd', 'b', 'c'}\n",
    "for i in hoho:\n",
    "    print(i)"
   ]
  },
  {
   "cell_type": "code",
   "execution_count": 3,
   "metadata": {},
   "outputs": [
    {
     "name": "stdout",
     "output_type": "stream",
     "text": [
      "{'a', 'r', 'm', 'c', 'd', 'b'}\n"
     ]
    }
   ],
   "source": [
    "# Write a Python program to add member(s) to a set.\n",
    "hello = {'r','m'}\n",
    "hoho.update(hello)\n",
    "print(hoho)"
   ]
  },
  {
   "cell_type": "code",
   "execution_count": 4,
   "metadata": {},
   "outputs": [
    {
     "name": "stdout",
     "output_type": "stream",
     "text": [
      "deleted ele is: a\n"
     ]
    }
   ],
   "source": [
    "# Write a Python program to remove item(s) from a given set.\n",
    "print(\"deleted ele is:\",hoho.pop())"
   ]
  },
  {
   "cell_type": "code",
   "execution_count": 11,
   "metadata": {},
   "outputs": [
    {
     "name": "stdout",
     "output_type": "stream",
     "text": [
      "ENter a char to delete is it exist25\n",
      "None\n",
      "{'m', 'c', 'd', 'b'}\n"
     ]
    }
   ],
   "source": [
    "# Write a Python program to remove an item from a set if it is present in the set.\n",
    "a = input(\"ENter a char to delete is it exist\")\n",
    "m = hoho.discard(a)\n",
    "print(m)\n",
    "print(hoho)"
   ]
  },
  {
   "cell_type": "code",
   "execution_count": 12,
   "metadata": {},
   "outputs": [
    {
     "name": "stdout",
     "output_type": "stream",
     "text": [
      "{'b'}\n"
     ]
    }
   ],
   "source": [
    "# Write a Python program to create an intersection of sets. \n",
    "temp = {'a','b','t','f','j'}\n",
    "set4= hoho.intersection(temp)\n",
    "print(set4)"
   ]
  },
  {
   "cell_type": "code",
   "execution_count": 13,
   "metadata": {},
   "outputs": [
    {
     "name": "stdout",
     "output_type": "stream",
     "text": [
      "{'m', 'c', 'd', 'b', 't', 'f', 'a', 'j'}\n"
     ]
    }
   ],
   "source": [
    "# Write a Python program to create a union of sets.\n",
    "temp = {'a','b','t','f','j'}\n",
    "set4= hoho.union(temp)\n",
    "print(set4)"
   ]
  },
  {
   "cell_type": "code",
   "execution_count": 14,
   "metadata": {},
   "outputs": [
    {
     "name": "stdout",
     "output_type": "stream",
     "text": [
      "{'m', 'c', 'd'}\n"
     ]
    }
   ],
   "source": [
    "# Write a Python program to create set difference. \n",
    "temp = {'a','b','t','f','j'}\n",
    "set4= hoho.difference(temp)\n",
    "print(set4)"
   ]
  },
  {
   "cell_type": "code",
   "execution_count": 15,
   "metadata": {},
   "outputs": [
    {
     "name": "stdout",
     "output_type": "stream",
     "text": [
      "{'a', 'm', 'j', 'c', 'f', 't', 'd'}\n"
     ]
    }
   ],
   "source": [
    "# Write a Python program to create a symmetric difference\n",
    "\n",
    "\n",
    "temp = {'a','b','t','f','j'}\n",
    "set4= hoho.symmetric_difference(temp)\n",
    "print(set4)"
   ]
  },
  {
   "cell_type": "code",
   "execution_count": 17,
   "metadata": {},
   "outputs": [
    {
     "name": "stdout",
     "output_type": "stream",
     "text": [
      "False\n"
     ]
    }
   ],
   "source": [
    "# Write a Python program to check if a set is a subset of another set.\n",
    "temp = {'a','b','t','f','j'}\n",
    "check= hoho.issubset(temp)\n",
    "print(check)"
   ]
  },
  {
   "cell_type": "code",
   "execution_count": null,
   "metadata": {},
   "outputs": [],
   "source": []
  }
 ],
 "metadata": {
  "kernelspec": {
   "display_name": "Python 3",
   "language": "python",
   "name": "python3"
  },
  "language_info": {
   "codemirror_mode": {
    "name": "ipython",
    "version": 3
   },
   "file_extension": ".py",
   "mimetype": "text/x-python",
   "name": "python",
   "nbconvert_exporter": "python",
   "pygments_lexer": "ipython3",
   "version": "3.10.5"
  }
 },
 "nbformat": 4,
 "nbformat_minor": 2
}
