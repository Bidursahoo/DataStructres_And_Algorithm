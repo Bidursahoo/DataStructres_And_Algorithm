{
 "cells": [
  {
   "cell_type": "code",
   "execution_count": 3,
   "metadata": {},
   "outputs": [
    {
     "name": "stdout",
     "output_type": "stream",
     "text": [
      "126x101\n"
     ]
    }
   ],
   "source": [
    "# 1. Write a function to print the resolution of an image file in Python\n",
    "import PIL\n",
    "from PIL import Image\n",
    "img = PIL.Image.open(\"th.jfif\")\n",
    "wid, hgt = img.size\n",
    "print(str(wid) + \"x\" + str(hgt))"
   ]
  },
  {
   "cell_type": "code",
   "execution_count": 4,
   "metadata": {},
   "outputs": [],
   "source": [
    "# 2. Write a function to print the hash of any given file in python. (Hint: Use SHA-1 algorithm).\n",
    "\n",
    "\n",
    "\n",
    "\n",
    "#kjwqbfbjqwiebhibeqri\n",
    "\n",
    "\n",
    "\n",
    "\n",
    "\n",
    "\n",
    "import hashlib\n",
    "openedFile = open(\"file.txt\")\n",
    "readFile = openedFile.read()\n",
    "sha1Hash = hashlib.sha1(readFile)\n",
    "sha1Hashed = sha1Hash.hexdigest()\n",
    "print (\"SHA1: %r\" % sha1Hashed)"
   ]
  },
  {
   "cell_type": "code",
   "execution_count": 3,
   "metadata": {},
   "outputs": [
    {
     "name": "stdout",
     "output_type": "stream",
     "text": [
      "Enter First Number: 12\n",
      "Enter Second Number: 3\n",
      "4.0\n",
      "Inside finaly\n"
     ]
    }
   ],
   "source": [
    "# 3. Write a program to catch on Divide by zero Exception. Add a finally block too.\n",
    "try:\n",
    "    num1 = int(input(\"Enter First Number: \"))\n",
    "    num2 = int(input(\"Enter Second Number: \"))\n",
    "\n",
    "    result = num1 / num2\n",
    "    print(result)\n",
    "except ZeroDivisionError:\n",
    "    print(\"Error while dividing with zero\")\n",
    "finally:\n",
    "    print(\"Inside finaly\")"
   ]
  },
  {
   "cell_type": "code",
   "execution_count": 8,
   "metadata": {},
   "outputs": [
    {
     "name": "stdout",
     "output_type": "stream",
     "text": [
      "hii bidur from write modehello bidur\n"
     ]
    }
   ],
   "source": [
    "# 4.Write a program to write data in a file for both write and append modes.\n",
    "#in write mode\n",
    "f = open(\"demo.txt\", \"w\")\n",
    "f.write(\"hii bidur from write mode\")\n",
    "f.close()\n",
    "#in append mode\n",
    "f = open(\"demo.txt\", \"a\")\n",
    "f.write(\"hello bidur\")\n",
    "f.close()\n",
    "f = open(\"demo.txt\", \"r\")\n",
    "print(f.read())"
   ]
  },
  {
   "cell_type": "code",
   "execution_count": 1,
   "metadata": {},
   "outputs": [
    {
     "name": "stdout",
     "output_type": "stream",
     "text": [
      "enter a stringbidur\n",
      "Less number of char\n"
     ]
    }
   ],
   "source": [
    "# 5. Write a custom exception that could be raised when the text entered by a user consists of less than 6 characters.\n",
    "class lessThanSix(Exception):\n",
    "    pass\n",
    "try:\n",
    "    a = input(\"enter a string\")\n",
    "    if(len(a) <= 6):\n",
    "        raise lessThanSix\n",
    "except lessThanSix:\n",
    "    print(\"Less number of char\")"
   ]
  },
  {
   "cell_type": "code",
   "execution_count": 13,
   "metadata": {},
   "outputs": [
    {
     "name": "stdout",
     "output_type": "stream",
     "text": [
      "hii bidur from write modehello bidur\n",
      "In binary b'hii bidur from write modehello bidur'\n",
      "hii bidur from write modehello bidur\n",
      "\n"
     ]
    }
   ],
   "source": [
    "# 6. Write a python program to demonstrate the file and file I/O operations\n",
    "#in write mode\n",
    "f = open(\"demo.txt\", \"w\")\n",
    "f.write(\"hii bidur from write mode\")\n",
    "f.close()\n",
    "#in append mode\n",
    "f = open(\"demo.txt\", \"a\")\n",
    "f.write(\"hello bidur\")\n",
    "f.close()\n",
    "#in read mode\n",
    "f = open(\"demo.txt\", \"r\")\n",
    "print(f.read())\n",
    "f.close()\n",
    "#in read binary mode\n",
    "f = open(\"demo.txt\", \"rb\")\n",
    "print(\"In binary\",f.read())\n",
    "f.close()\n",
    "#in read+\n",
    "f = open(\"demo.txt\", \"r+\")\n",
    "f.write(\"hii bidur from r+\")\n",
    "f.close()\n",
    "#final print\n",
    "f = open(\"demo.txt\", \"rb\")\n",
    "print(\"In binary\",f.read())\n",
    "f.close()"
   ]
  },
  {
   "cell_type": "code",
   "execution_count": null,
   "metadata": {},
   "outputs": [],
   "source": []
  }
 ],
 "metadata": {
  "kernelspec": {
   "display_name": "Python 3",
   "language": "python",
   "name": "python3"
  },
  "language_info": {
   "codemirror_mode": {
    "name": "ipython",
    "version": 3
   },
   "file_extension": ".py",
   "mimetype": "text/x-python",
   "name": "python",
   "nbconvert_exporter": "python",
   "pygments_lexer": "ipython3",
   "version": "3.7.4"
  }
 },
 "nbformat": 4,
 "nbformat_minor": 2
}
